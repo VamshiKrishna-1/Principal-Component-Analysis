{
 "cells": [
  {
   "cell_type": "code",
   "execution_count": 50,
   "id": "69ed03ab",
   "metadata": {},
   "outputs": [
    {
     "ename": "NameError",
     "evalue": "name 'instancemethod' is not defined",
     "output_type": "error",
     "traceback": [
      "\u001b[1;31m---------------------------------------------------------------------------\u001b[0m",
      "\u001b[1;31mNameError\u001b[0m                                 Traceback (most recent call last)",
      "\u001b[1;32m~\\AppData\\Local\\Temp\\ipykernel_8568\\1871103192.py\u001b[0m in \u001b[0;36m<module>\u001b[1;34m\u001b[0m\n\u001b[0;32m      3\u001b[0m \u001b[1;33m\u001b[0m\u001b[0m\n\u001b[0;32m      4\u001b[0m \u001b[1;33m\u001b[0m\u001b[0m\n\u001b[1;32m----> 5\u001b[1;33m \u001b[1;32mclass\u001b[0m \u001b[0mPrincipalTransformationClassifier\u001b[0m\u001b[1;33m(\u001b[0m\u001b[1;33m)\u001b[0m\u001b[1;33m:\u001b[0m\u001b[1;33m\u001b[0m\u001b[1;33m\u001b[0m\u001b[0m\n\u001b[0m\u001b[0;32m      6\u001b[0m     \u001b[1;32mdef\u001b[0m \u001b[0m__init__\u001b[0m\u001b[1;33m(\u001b[0m\u001b[0mself\u001b[0m\u001b[1;33m)\u001b[0m\u001b[1;33m:\u001b[0m\u001b[1;33m\u001b[0m\u001b[1;33m\u001b[0m\u001b[0m\n\u001b[0;32m      7\u001b[0m         \u001b[1;32mpass\u001b[0m\u001b[1;33m\u001b[0m\u001b[1;33m\u001b[0m\u001b[0m\n",
      "\u001b[1;32m~\\AppData\\Local\\Temp\\ipykernel_8568\\1871103192.py\u001b[0m in \u001b[0;36mPrincipalTransformationClassifier\u001b[1;34m()\u001b[0m\n\u001b[0;32m     57\u001b[0m \u001b[1;33m\u001b[0m\u001b[0m\n\u001b[0;32m     58\u001b[0m \u001b[1;33m\u001b[0m\u001b[0m\n\u001b[1;32m---> 59\u001b[1;33m     \u001b[1;33m@\u001b[0m\u001b[0minstancemethod\u001b[0m\u001b[1;33m\u001b[0m\u001b[1;33m\u001b[0m\u001b[0m\n\u001b[0m\u001b[0;32m     60\u001b[0m     \u001b[1;32mdef\u001b[0m \u001b[0mtransformation_matrix\u001b[0m\u001b[1;33m(\u001b[0m\u001b[0mself\u001b[0m\u001b[1;33m)\u001b[0m\u001b[1;33m:\u001b[0m\u001b[1;33m\u001b[0m\u001b[1;33m\u001b[0m\u001b[0m\n\u001b[0;32m     61\u001b[0m         \u001b[0mX\u001b[0m \u001b[1;33m=\u001b[0m \u001b[0mnp\u001b[0m\u001b[1;33m.\u001b[0m\u001b[0mr_\u001b[0m\u001b[1;33m[\u001b[0m\u001b[0mself\u001b[0m\u001b[1;33m.\u001b[0m\u001b[0mX\u001b[0m\u001b[1;33m]\u001b[0m\u001b[1;33m\u001b[0m\u001b[1;33m\u001b[0m\u001b[0m\n",
      "\u001b[1;31mNameError\u001b[0m: name 'instancemethod' is not defined"
     ]
    }
   ],
   "source": [
    "import numpy as np\n",
    "import pandas as pd\n",
    "\n",
    "\n",
    "class PrincipalTransformationClassifier():\n",
    "    def __init__(self):\n",
    "        pass\n",
    "    \n",
    "    def fit(self, X_train, y_train):\n",
    "        X = pd.DataFrame(X_train)\n",
    "        y = pd.Series(y_train)\n",
    "        \n",
    "        self.labels_num = y.nunique()\n",
    "        self.train_mean = X_train.mean(axis = 0)\n",
    "        X = X - self.train_mean\n",
    "        \n",
    "        separate_X = [0] * (self.labels_num)\n",
    "        \n",
    "        for i in range(self.labels_num):\n",
    "            separate_X[i] = X[y == i].to_numpy()\n",
    "            \n",
    "            \n",
    "            \n",
    "            \n",
    "        cov = [0] * (self.labels_num)\n",
    "        \n",
    "        for i in range(self.labels_num):\n",
    "            cov[i] = np.dot(separate_X[i].T, separate_X[i])/separate_X[i].shape[0]\n",
    "            \n",
    "            \n",
    "            \n",
    "        \n",
    "        eig_values = [0] * (self.labels_num)\n",
    "        eig_vectors = [0] * (self.labels_num)\n",
    "        \n",
    "        for i in range(self.labels_num):\n",
    "            eig_values[i], eig_vectors[i] = np.linalg.eig(cov[i])\n",
    "            \n",
    "        self.eig_values = eig_values\n",
    "        self.eig_vectors = eig_vectors\n",
    "        \n",
    "        \"\"\"      \n",
    "        for i in range(self.labels_num):\n",
    "            rng_state = np.random.get_state()\n",
    "            np.random.shuffle(np.transpose(self.eig_values[i]))\n",
    "            np.random.set_state(rng_state)\n",
    "            np.random.shuffle(self.eig_vectors[i])\n",
    "            \"\"\"\n",
    "            \n",
    "        transformation = [0] * (self.labels_num)\n",
    "        \n",
    "        for i in range(self.labels_num):\n",
    "            transformation[i] = np.dot(self.eig_vectors[i].T, separate_X[i].T).T\n",
    "            \n",
    "        self.transformation = transformation\n",
    "        self.X = separate_X\n",
    "        \n",
    "    \n",
    "    def transformation_matrix(self):\n",
    "        X = np.r_[self.X]\n",
    "        Y = np.r_[self.transformation]\n",
    "\n",
    "        # Compute the transformation matrix\n",
    "        T = np.linalg.inv(X.T @ X) @ X.T @ Y\n",
    "\n",
    "        return T.T\n",
    "        \n",
    "\n",
    "    @staticmethod\n",
    "    def mahalanobis_distance(data, vectors):\n",
    "        mean = np.mean(data, axis=0)\n",
    "        centered_data = data - mean\n",
    "        covM = np.cov(centered_data, rowvar=False, bias=True)\n",
    "        invCovM = np.linalg.inv(covM)\n",
    "        xMm = vectors - mean\n",
    "        md = np.sqrt(np.absolute(np.sum(np.dot(xMm, invCovM) * xMm, axis=1)))\n",
    "        return md\n",
    "    \n",
    "    \n",
    "    def predict(self, X_test):\n",
    "        mds = [0] * self.labels_num\n",
    "        vectors = [0] * self.labels_num\n",
    "        \n",
    "        X_test = X_test - self.train_mean\n",
    "        \n",
    "        self.transf_mat = PrincipalTransformationClassifier.transformation_matrix()\n",
    "        \n",
    "        for i in range(self.labels_num):\n",
    "            vectors[i] = np.dot(self.transf_mat, X_test.T).T\n",
    "            \n",
    "        for i, vector_data in enumerate(vectors):\n",
    "            temp = PrincipalTransformationClassifier.mahalanobis_distance(self.transformation[i], vector_data)\n",
    "            mds[i] = np.array(temp).reshape(-1, 1)\n",
    "        \n",
    "        mds = np.array(mds)\n",
    "        return mds.argmin(axis = 0)"
   ]
  },
  {
   "cell_type": "code",
   "execution_count": 48,
   "id": "f75cdea7",
   "metadata": {},
   "outputs": [],
   "source": [
    "# Importing models\n",
    "from sklearn.linear_model import LogisticRegression\n",
    "from sklearn.tree import DecisionTreeClassifier\n",
    "\n",
    "# My model\n",
    "from PrincipalTransformationModels.models.PrincipalTransformationClassifier import PrincipalTransformationClassifier as PTC\n",
    "\n",
    "# Importing other models\n",
    "from sklearn.model_selection import train_test_split\n",
    "from sklearn import datasets\n",
    "from sklearn.metrics import accuracy_score"
   ]
  },
  {
   "cell_type": "markdown",
   "id": "3db44762",
   "metadata": {},
   "source": [
    "## INTUITION"
   ]
  },
  {
   "cell_type": "code",
   "execution_count": 49,
   "id": "96743511",
   "metadata": {},
   "outputs": [
    {
     "ename": "TypeError",
     "evalue": "transformation_matrix() missing 1 required positional argument: 'self'",
     "output_type": "error",
     "traceback": [
      "\u001b[1;31m---------------------------------------------------------------------------\u001b[0m",
      "\u001b[1;31mTypeError\u001b[0m                                 Traceback (most recent call last)",
      "\u001b[1;32m~\\AppData\\Local\\Temp\\ipykernel_8568\\1433987836.py\u001b[0m in \u001b[0;36m<module>\u001b[1;34m\u001b[0m\n\u001b[0;32m     11\u001b[0m \u001b[0mv\u001b[0m\u001b[1;33m.\u001b[0m\u001b[0mfit\u001b[0m\u001b[1;33m(\u001b[0m\u001b[0mX_train\u001b[0m\u001b[1;33m,\u001b[0m \u001b[0my_train\u001b[0m\u001b[1;33m)\u001b[0m\u001b[1;33m\u001b[0m\u001b[1;33m\u001b[0m\u001b[0m\n\u001b[0;32m     12\u001b[0m \u001b[1;33m\u001b[0m\u001b[0m\n\u001b[1;32m---> 13\u001b[1;33m \u001b[0mv\u001b[0m\u001b[1;33m.\u001b[0m\u001b[0mpredict\u001b[0m\u001b[1;33m(\u001b[0m\u001b[0mX_test\u001b[0m\u001b[1;33m)\u001b[0m\u001b[1;33m\u001b[0m\u001b[1;33m\u001b[0m\u001b[0m\n\u001b[0m",
      "\u001b[1;32m~\\AppData\\Local\\Temp\\ipykernel_8568\\2356549070.py\u001b[0m in \u001b[0;36mpredict\u001b[1;34m(self, X_test)\u001b[0m\n\u001b[0;32m     84\u001b[0m         \u001b[0mX_test\u001b[0m \u001b[1;33m=\u001b[0m \u001b[0mX_test\u001b[0m \u001b[1;33m-\u001b[0m \u001b[0mself\u001b[0m\u001b[1;33m.\u001b[0m\u001b[0mtrain_mean\u001b[0m\u001b[1;33m\u001b[0m\u001b[1;33m\u001b[0m\u001b[0m\n\u001b[0;32m     85\u001b[0m \u001b[1;33m\u001b[0m\u001b[0m\n\u001b[1;32m---> 86\u001b[1;33m         \u001b[0mself\u001b[0m\u001b[1;33m.\u001b[0m\u001b[0mtransf_mat\u001b[0m \u001b[1;33m=\u001b[0m \u001b[0mPrincipalTransformationClassifier\u001b[0m\u001b[1;33m.\u001b[0m\u001b[0mtransformation_matrix\u001b[0m\u001b[1;33m(\u001b[0m\u001b[1;33m)\u001b[0m\u001b[1;33m\u001b[0m\u001b[1;33m\u001b[0m\u001b[0m\n\u001b[0m\u001b[0;32m     87\u001b[0m \u001b[1;33m\u001b[0m\u001b[0m\n\u001b[0;32m     88\u001b[0m         \u001b[1;32mfor\u001b[0m \u001b[0mi\u001b[0m \u001b[1;32min\u001b[0m \u001b[0mrange\u001b[0m\u001b[1;33m(\u001b[0m\u001b[0mself\u001b[0m\u001b[1;33m.\u001b[0m\u001b[0mlabels_num\u001b[0m\u001b[1;33m)\u001b[0m\u001b[1;33m:\u001b[0m\u001b[1;33m\u001b[0m\u001b[1;33m\u001b[0m\u001b[0m\n",
      "\u001b[1;31mTypeError\u001b[0m: transformation_matrix() missing 1 required positional argument: 'self'"
     ]
    }
   ],
   "source": [
    "from sklearn import datasets\n",
    "\n",
    "iris = datasets.load_iris()\n",
    "\n",
    "\n",
    "from sklearn.model_selection import train_test_split\n",
    "\n",
    "X_train, X_test,  y_train, y_test = train_test_split(iris.data, iris.target, random_state = 20, train_size = 0.9)\n",
    "\n",
    "v = PrincipalTransformationClassifier()\n",
    "v.fit(X_train, y_train)\n",
    "\n",
    "v.predict(X_test)"
   ]
  },
  {
   "cell_type": "code",
   "execution_count": 42,
   "id": "947d31dc",
   "metadata": {},
   "outputs": [
    {
     "name": "stderr",
     "output_type": "stream",
     "text": [
      "C:\\Users\\timbe\\AppData\\Local\\Temp\\ipykernel_8568\\2519082642.py:28: RuntimeWarning: invalid value encountered in true_divide\n",
      "  cov[i] = np.dot(separate_X[i].T, separate_X[i])/separate_X[i].shape[0]\n"
     ]
    },
    {
     "ename": "LinAlgError",
     "evalue": "Array must not contain infs or NaNs",
     "output_type": "error",
     "traceback": [
      "\u001b[1;31m---------------------------------------------------------------------------\u001b[0m",
      "\u001b[1;31mLinAlgError\u001b[0m                               Traceback (most recent call last)",
      "\u001b[1;32m~\\AppData\\Local\\Temp\\ipykernel_8568\\3356289273.py\u001b[0m in \u001b[0;36m<module>\u001b[1;34m\u001b[0m\n\u001b[1;32m----> 1\u001b[1;33m \u001b[0mp\u001b[0m\u001b[1;33m.\u001b[0m\u001b[0mfit\u001b[0m\u001b[1;33m(\u001b[0m\u001b[0mX\u001b[0m\u001b[1;33m,\u001b[0m \u001b[0mY\u001b[0m\u001b[1;33m)\u001b[0m\u001b[1;33m\u001b[0m\u001b[1;33m\u001b[0m\u001b[0m\n\u001b[0m",
      "\u001b[1;32m~\\AppData\\Local\\Temp\\ipykernel_8568\\2519082642.py\u001b[0m in \u001b[0;36mfit\u001b[1;34m(self, X_train, y_train)\u001b[0m\n\u001b[0;32m     35\u001b[0m \u001b[1;33m\u001b[0m\u001b[0m\n\u001b[0;32m     36\u001b[0m         \u001b[1;32mfor\u001b[0m \u001b[0mi\u001b[0m \u001b[1;32min\u001b[0m \u001b[0mrange\u001b[0m\u001b[1;33m(\u001b[0m\u001b[0mself\u001b[0m\u001b[1;33m.\u001b[0m\u001b[0mlabels_num\u001b[0m\u001b[1;33m)\u001b[0m\u001b[1;33m:\u001b[0m\u001b[1;33m\u001b[0m\u001b[1;33m\u001b[0m\u001b[0m\n\u001b[1;32m---> 37\u001b[1;33m             \u001b[0meig_values\u001b[0m\u001b[1;33m[\u001b[0m\u001b[0mi\u001b[0m\u001b[1;33m]\u001b[0m\u001b[1;33m,\u001b[0m \u001b[0meig_vectors\u001b[0m\u001b[1;33m[\u001b[0m\u001b[0mi\u001b[0m\u001b[1;33m]\u001b[0m \u001b[1;33m=\u001b[0m \u001b[0mnp\u001b[0m\u001b[1;33m.\u001b[0m\u001b[0mlinalg\u001b[0m\u001b[1;33m.\u001b[0m\u001b[0meig\u001b[0m\u001b[1;33m(\u001b[0m\u001b[0mcov\u001b[0m\u001b[1;33m[\u001b[0m\u001b[0mi\u001b[0m\u001b[1;33m]\u001b[0m\u001b[1;33m)\u001b[0m\u001b[1;33m\u001b[0m\u001b[1;33m\u001b[0m\u001b[0m\n\u001b[0m\u001b[0;32m     38\u001b[0m \u001b[1;33m\u001b[0m\u001b[0m\n\u001b[0;32m     39\u001b[0m         \u001b[0mself\u001b[0m\u001b[1;33m.\u001b[0m\u001b[0meig_values\u001b[0m \u001b[1;33m=\u001b[0m \u001b[0meig_values\u001b[0m\u001b[1;33m\u001b[0m\u001b[1;33m\u001b[0m\u001b[0m\n",
      "\u001b[1;32m<__array_function__ internals>\u001b[0m in \u001b[0;36meig\u001b[1;34m(*args, **kwargs)\u001b[0m\n",
      "\u001b[1;32m~\\anaconda3\\lib\\site-packages\\numpy\\linalg\\linalg.py\u001b[0m in \u001b[0;36meig\u001b[1;34m(a)\u001b[0m\n\u001b[0;32m   1315\u001b[0m     \u001b[0m_assert_stacked_2d\u001b[0m\u001b[1;33m(\u001b[0m\u001b[0ma\u001b[0m\u001b[1;33m)\u001b[0m\u001b[1;33m\u001b[0m\u001b[1;33m\u001b[0m\u001b[0m\n\u001b[0;32m   1316\u001b[0m     \u001b[0m_assert_stacked_square\u001b[0m\u001b[1;33m(\u001b[0m\u001b[0ma\u001b[0m\u001b[1;33m)\u001b[0m\u001b[1;33m\u001b[0m\u001b[1;33m\u001b[0m\u001b[0m\n\u001b[1;32m-> 1317\u001b[1;33m     \u001b[0m_assert_finite\u001b[0m\u001b[1;33m(\u001b[0m\u001b[0ma\u001b[0m\u001b[1;33m)\u001b[0m\u001b[1;33m\u001b[0m\u001b[1;33m\u001b[0m\u001b[0m\n\u001b[0m\u001b[0;32m   1318\u001b[0m     \u001b[0mt\u001b[0m\u001b[1;33m,\u001b[0m \u001b[0mresult_t\u001b[0m \u001b[1;33m=\u001b[0m \u001b[0m_commonType\u001b[0m\u001b[1;33m(\u001b[0m\u001b[0ma\u001b[0m\u001b[1;33m)\u001b[0m\u001b[1;33m\u001b[0m\u001b[1;33m\u001b[0m\u001b[0m\n\u001b[0;32m   1319\u001b[0m \u001b[1;33m\u001b[0m\u001b[0m\n",
      "\u001b[1;32m~\\anaconda3\\lib\\site-packages\\numpy\\linalg\\linalg.py\u001b[0m in \u001b[0;36m_assert_finite\u001b[1;34m(*arrays)\u001b[0m\n\u001b[0;32m    206\u001b[0m     \u001b[1;32mfor\u001b[0m \u001b[0ma\u001b[0m \u001b[1;32min\u001b[0m \u001b[0marrays\u001b[0m\u001b[1;33m:\u001b[0m\u001b[1;33m\u001b[0m\u001b[1;33m\u001b[0m\u001b[0m\n\u001b[0;32m    207\u001b[0m         \u001b[1;32mif\u001b[0m \u001b[1;32mnot\u001b[0m \u001b[0misfinite\u001b[0m\u001b[1;33m(\u001b[0m\u001b[0ma\u001b[0m\u001b[1;33m)\u001b[0m\u001b[1;33m.\u001b[0m\u001b[0mall\u001b[0m\u001b[1;33m(\u001b[0m\u001b[1;33m)\u001b[0m\u001b[1;33m:\u001b[0m\u001b[1;33m\u001b[0m\u001b[1;33m\u001b[0m\u001b[0m\n\u001b[1;32m--> 208\u001b[1;33m             \u001b[1;32mraise\u001b[0m \u001b[0mLinAlgError\u001b[0m\u001b[1;33m(\u001b[0m\u001b[1;34m\"Array must not contain infs or NaNs\"\u001b[0m\u001b[1;33m)\u001b[0m\u001b[1;33m\u001b[0m\u001b[1;33m\u001b[0m\u001b[0m\n\u001b[0m\u001b[0;32m    209\u001b[0m \u001b[1;33m\u001b[0m\u001b[0m\n\u001b[0;32m    210\u001b[0m \u001b[1;32mdef\u001b[0m \u001b[0m_is_empty_2d\u001b[0m\u001b[1;33m(\u001b[0m\u001b[0marr\u001b[0m\u001b[1;33m)\u001b[0m\u001b[1;33m:\u001b[0m\u001b[1;33m\u001b[0m\u001b[1;33m\u001b[0m\u001b[0m\n",
      "\u001b[1;31mLinAlgError\u001b[0m: Array must not contain infs or NaNs"
     ]
    }
   ],
   "source": [
    "p.fit(X, Y)"
   ]
  },
  {
   "cell_type": "code",
   "execution_count": 37,
   "id": "a9218584",
   "metadata": {},
   "outputs": [],
   "source": [
    "import numpy as np\n",
    "import matplotlib.pyplot as plt\n",
    "import pandas as pd\n",
    "\n",
    "\n",
    "# Set random seed for reproducibility\n",
    "np.random.seed(1234)\n",
    "\n",
    "# Generate Y values randomly from a normal distribution\n",
    "Y = np.random.normal(loc=0, scale=1, size=5000)\n",
    "\n",
    "# Calculate corresponding X values based on the line x = 2y\n",
    "X = 0.5 * Y + np.random.normal(loc=0, scale=0.5, size=5000)\n",
    "\n",
    "# Combine X and Y into a single array\n",
    "data_1 = np.vstack((X, Y)).T\n",
    "\n",
    "\n",
    "\n",
    "# Generate Y values randomly from a normal distribution\n",
    "Y = np.random.normal(loc=0, scale=1, size=5000)\n",
    "\n",
    "# Calculate corresponding X values based on the line x = 2y\n",
    "X = 2 * Y + np.random.normal(loc=0, scale=0.5, size=5000)\n",
    "\n",
    "# Combine X and Y into a single array\n",
    "data_2 = np.vstack((X, Y)).T\n",
    "\n",
    "\n",
    "data = np.r_[np.c_[data_1, np.zeros((data_1.shape[0],1))], np.c_[data_2, np.ones((data_2.shape[0],1))]]"
   ]
  },
  {
   "cell_type": "code",
   "execution_count": 38,
   "id": "b3bf2450",
   "metadata": {},
   "outputs": [],
   "source": [
    "data_df = pd.DataFrame(data, columns = ['x', 'y', 'target'])\n",
    "\n",
    "from sklearn.model_selection import train_test_split\n",
    "\n",
    "train, test = train_test_split(data_df, random_state = 20, train_size = 0.9)\n",
    "\n",
    "train_0 = train[train['target'] == 0].drop('target', axis = 1)\n",
    "train_1 = train[train['target'] == 1].drop('target', axis = 1)\n",
    "\n",
    "cov_0 = np.dot(train_0.T, train_0)/train_0.shape[0]\n",
    "cov_1 = np.dot(train_1.T, train_1)/train_1.shape[0]\n",
    "\n",
    "eig_values_0, eig_vectors_0 = np.linalg.eig(cov_0)\n",
    "eig_values_1, eig_vectors_1 = np.linalg.eig(cov_1)\n",
    "\n",
    "\n",
    "transformation_0 = np.dot(eig_vectors_0.T, train_0.to_numpy().T).T\n",
    "transformation_1 = np.dot(eig_vectors_1.T, train_1.to_numpy().T).T"
   ]
  },
  {
   "cell_type": "code",
   "execution_count": 39,
   "id": "f29d4869",
   "metadata": {},
   "outputs": [
    {
     "data": {
      "image/png": "[encoded data removed]",
      "text/plain": [
       "<Figure size 640x480 with 1 Axes>"
      ]
     },
     "metadata": {},
     "output_type": "display_data"
    }
   ],
   "source": [
    "plt.scatter(transformation_0[:,0], transformation_0[:,1], label = \"0\")\n",
    "plt.scatter(transformation_1[:,0], transformation_1[:,1], label = \"1\")\n",
    "plt.legend()\n",
    "plt.show()"
   ]
  },
  {
   "cell_type": "code",
   "execution_count": 6,
   "id": "3d9678a6",
   "metadata": {
    "scrolled": true
   },
   "outputs": [
    {
     "data": {
      "text/html": [
       "<div>\n",
       "<style scoped>\n",
       "    .dataframe tbody tr th:only-of-type {\n",
       "        vertical-align: middle;\n",
       "    }\n",
       "\n",
       "    .dataframe tbody tr th {\n",
       "        vertical-align: top;\n",
       "    }\n",
       "\n",
       "    .dataframe thead th {\n",
       "        text-align: right;\n",
       "    }\n",
       "</style>\n",
       "<table border=\"1\" class=\"dataframe\">\n",
       "  <thead>\n",
       "    <tr style=\"text-align: right;\">\n",
       "      <th></th>\n",
       "      <th>x</th>\n",
       "      <th>y</th>\n",
       "      <th>target</th>\n",
       "    </tr>\n",
       "  </thead>\n",
       "  <tbody>\n",
       "    <tr>\n",
       "      <th>9957</th>\n",
       "      <td>2.839517</td>\n",
       "      <td>1.244727</td>\n",
       "      <td>1.0</td>\n",
       "    </tr>\n",
       "    <tr>\n",
       "      <th>1687</th>\n",
       "      <td>-0.389019</td>\n",
       "      <td>-0.183321</td>\n",
       "      <td>0.0</td>\n",
       "    </tr>\n",
       "  </tbody>\n",
       "</table>\n",
       "</div>"
      ],
      "text/plain": [
       "             x         y  target\n",
       "9957  2.839517  1.244727     1.0\n",
       "1687 -0.389019 -0.183321     0.0"
      ]
     },
     "execution_count": 6,
     "metadata": {},
     "output_type": "execute_result"
    }
   ],
   "source": [
    "test.head(2)"
   ]
  },
  {
   "cell_type": "code",
   "execution_count": 7,
   "id": "c7397714",
   "metadata": {},
   "outputs": [
    {
     "data": {
      "text/plain": [
       "array([[2.83951707],\n",
       "       [1.24472729]])"
      ]
     },
     "execution_count": 7,
     "metadata": {},
     "output_type": "execute_result"
    }
   ],
   "source": [
    "random_test_sample = test[['x', 'y']].iloc[0, :].to_numpy().reshape(-1, 1)\n",
    "random_test_sample"
   ]
  },
  {
   "cell_type": "code",
   "execution_count": 8,
   "id": "58c23449",
   "metadata": {},
   "outputs": [],
   "source": [
    "transformation_r_0 = np.dot(eig_vectors_0.T, random_test_sample).T\n",
    "\n",
    "transformation_r_1 = np.dot(eig_vectors_1.T, random_test_sample).T"
   ]
  },
  {
   "cell_type": "code",
   "execution_count": 9,
   "id": "f1aad741",
   "metadata": {
    "scrolled": false
   },
   "outputs": [
    {
     "data": {
      "image/png": "[encoded data removed]",
      "text/plain": [
       "<Figure size 640x480 with 1 Axes>"
      ]
     },
     "metadata": {},
     "output_type": "display_data"
    }
   ],
   "source": [
    "plt.scatter(transformation_0[:,0], transformation_0[:,1], label = \"0\")\n",
    "plt.scatter(transformation_1[:,0], transformation_1[:,1], label = \"1\")\n",
    "plt.scatter(*transformation_r_0[0], label = \"0 transformation on random sample\")\n",
    "plt.scatter(*transformation_r_1[0], label = \"1 transformation on random sample\")\n",
    "plt.legend(loc = 'upper left')\n",
    "plt.show()"
   ]
  },
  {
   "cell_type": "markdown",
   "id": "0831a55c",
   "metadata": {},
   "source": [
    "# When can this model outperform other models\n",
    "\n",
    "1. More feautures, better the performance.\n",
    "2. No matter the size of the data set the training can be done in short amount of time\n",
    "3. Variance of the features are high.\n",
    "\n",
    "# Disadavantages of this model\n",
    "\n",
    "1. Prediction of the test samples can be time consuming.\n",
    "2. If the dataset consists of only 1's and 0's, then the model may not perform very well and can result in Singular matrix error."
   ]
  },
  {
   "cell_type": "code",
   "execution_count": 19,
   "id": "74fdf5f8",
   "metadata": {},
   "outputs": [],
   "source": [
    "transformation_1.shape\n",
    "\n",
    "transformed = np.r_[(transformation_0, transformation_1)]"
   ]
  },
  {
   "cell_type": "code",
   "execution_count": 20,
   "id": "c5cb222c",
   "metadata": {},
   "outputs": [],
   "source": [
    "X_0 = train_0.to_numpy()\n",
    "X_1 = train_1.to_numpy()\n",
    "\n",
    "X = np.r_[(X_0, X_1)]"
   ]
  },
  {
   "cell_type": "code",
   "execution_count": 18,
   "id": "6850465c",
   "metadata": {},
   "outputs": [
    {
     "data": {
      "text/plain": [
       "(9000, 2)"
      ]
     },
     "execution_count": 18,
     "metadata": {},
     "output_type": "execute_result"
    }
   ],
   "source": [
    "X.shape"
   ]
  },
  {
   "cell_type": "markdown",
   "id": "2c9882ad",
   "metadata": {},
   "source": [
    "# Performance"
   ]
  },
  {
   "cell_type": "code",
   "execution_count": 27,
   "id": "42a29f83",
   "metadata": {},
   "outputs": [
    {
     "name": "stdout",
     "output_type": "stream",
     "text": [
      "Transformation matrix:\n",
      " [[ 0.99355926  0.38884267]\n",
      " [-0.07617224 -1.02284761]]\n"
     ]
    }
   ],
   "source": [
    "import numpy as np\n",
    "\n",
    "# Define the matrices X and Y\n",
    "X = X\n",
    "Y = transformed\n",
    "\n",
    "# Compute the transformation matrix\n",
    "T = np.linalg.inv(X.T @ X) @ X.T @ Y\n",
    "\n",
    "# Print the transformation matrix\n",
    "print(\"Transformation matrix:\\n\", T)"
   ]
  },
  {
   "cell_type": "code",
   "execution_count": 22,
   "id": "8dc67dc6",
   "metadata": {},
   "outputs": [
    {
     "data": {
      "text/plain": [
       "<matplotlib.collections.PathCollection at 0x1cf6a4f4940>"
      ]
     },
     "execution_count": 22,
     "metadata": {},
     "output_type": "execute_result"
    },
    {
     "data": {
      "image/png": "[encoded data removed]",
      "text/plain": [
       "<Figure size 640x480 with 1 Axes>"
      ]
     },
     "metadata": {},
     "output_type": "display_data"
    }
   ],
   "source": [
    "plt.scatter(X[:,0], X[:,1])"
   ]
  },
  {
   "cell_type": "code",
   "execution_count": 29,
   "id": "68c40f14",
   "metadata": {},
   "outputs": [
    {
     "data": {
      "text/plain": [
       "<matplotlib.collections.PathCollection at 0x1cf6b74caf0>"
      ]
     },
     "execution_count": 29,
     "metadata": {},
     "output_type": "execute_result"
    },
    {
     "data": {
      "image/png": "[encoded data removed]",
      "text/plain": [
       "<Figure size 640x480 with 1 Axes>"
      ]
     },
     "metadata": {},
     "output_type": "display_data"
    }
   ],
   "source": [
    "transformation = np.dot(T.T, X.T).T\n",
    "plt.scatter(transformation[:,0], transformation[:,1])"
   ]
  },
  {
   "cell_type": "code",
   "execution_count": 34,
   "id": "7c8a9e46",
   "metadata": {},
   "outputs": [
    {
     "data": {
      "text/plain": [
       "85.08983623348422"
      ]
     },
     "execution_count": 34,
     "metadata": {},
     "output_type": "execute_result"
    }
   ],
   "source": [
    "np.linalg.norm((transformation - transformed))"
   ]
  },
  {
   "cell_type": "code",
   "execution_count": null,
   "id": "d2bb185b",
   "metadata": {},
   "outputs": [],
   "source": [
    "#df = pd.read_csv('bank.txt', header = None)\n",
    "df = pd.read_csv('diabetes.csv')"
   ]
  },
  {
   "cell_type": "code",
   "execution_count": 538,
   "id": "92a4d1b2",
   "metadata": {},
   "outputs": [
    {
     "data": {
      "text/plain": [
       "0.6926406926406926"
      ]
     },
     "execution_count": 538,
     "metadata": {},
     "output_type": "execute_result"
    }
   ],
   "source": [
    "X = df.drop('Outcome', axis = 1)\n",
    "y = df['Outcome']\n",
    "\n",
    "from sklearn.model_selection import train_test_split\n",
    "\n",
    "X_train, X_test,  y_train, y_test = train_test_split(X, y, train_size = 0.70)\n",
    "\n",
    "ptc_model = PTC()\n",
    "\n",
    "ptc_model.fit(X_train, y_train)\n",
    "\n",
    "from sklearn.metrics import accuracy_score, precision_score, recall_score, f1_score\n",
    "\n",
    "accuracy_score(ptc_model.predict(X_test), y_test)"
   ]
  },
  {
   "cell_type": "code",
   "execution_count": 424,
   "id": "52532cef",
   "metadata": {},
   "outputs": [],
   "source": [
    "df = pd.read_csv('diabetes.csv')"
   ]
  },
  {
   "cell_type": "code",
   "execution_count": 425,
   "id": "0a211deb",
   "metadata": {},
   "outputs": [
    {
     "data": {
      "text/html": [
       "<div>\n",
       "<style scoped>\n",
       "    .dataframe tbody tr th:only-of-type {\n",
       "        vertical-align: middle;\n",
       "    }\n",
       "\n",
       "    .dataframe tbody tr th {\n",
       "        vertical-align: top;\n",
       "    }\n",
       "\n",
       "    .dataframe thead th {\n",
       "        text-align: right;\n",
       "    }\n",
       "</style>\n",
       "<table border=\"1\" class=\"dataframe\">\n",
       "  <thead>\n",
       "    <tr style=\"text-align: right;\">\n",
       "      <th></th>\n",
       "      <th>Pregnancies</th>\n",
       "      <th>Glucose</th>\n",
       "      <th>BloodPressure</th>\n",
       "      <th>SkinThickness</th>\n",
       "      <th>Insulin</th>\n",
       "      <th>BMI</th>\n",
       "      <th>DiabetesPedigreeFunction</th>\n",
       "      <th>Age</th>\n",
       "      <th>Outcome</th>\n",
       "    </tr>\n",
       "  </thead>\n",
       "  <tbody>\n",
       "    <tr>\n",
       "      <th>0</th>\n",
       "      <td>6</td>\n",
       "      <td>148</td>\n",
       "      <td>72</td>\n",
       "      <td>35</td>\n",
       "      <td>0</td>\n",
       "      <td>33.6</td>\n",
       "      <td>0.627</td>\n",
       "      <td>50</td>\n",
       "      <td>1</td>\n",
       "    </tr>\n",
       "    <tr>\n",
       "      <th>1</th>\n",
       "      <td>1</td>\n",
       "      <td>85</td>\n",
       "      <td>66</td>\n",
       "      <td>29</td>\n",
       "      <td>0</td>\n",
       "      <td>26.6</td>\n",
       "      <td>0.351</td>\n",
       "      <td>31</td>\n",
       "      <td>0</td>\n",
       "    </tr>\n",
       "    <tr>\n",
       "      <th>2</th>\n",
       "      <td>8</td>\n",
       "      <td>183</td>\n",
       "      <td>64</td>\n",
       "      <td>0</td>\n",
       "      <td>0</td>\n",
       "      <td>23.3</td>\n",
       "      <td>0.672</td>\n",
       "      <td>32</td>\n",
       "      <td>1</td>\n",
       "    </tr>\n",
       "    <tr>\n",
       "      <th>3</th>\n",
       "      <td>1</td>\n",
       "      <td>89</td>\n",
       "      <td>66</td>\n",
       "      <td>23</td>\n",
       "      <td>94</td>\n",
       "      <td>28.1</td>\n",
       "      <td>0.167</td>\n",
       "      <td>21</td>\n",
       "      <td>0</td>\n",
       "    </tr>\n",
       "    <tr>\n",
       "      <th>4</th>\n",
       "      <td>0</td>\n",
       "      <td>137</td>\n",
       "      <td>40</td>\n",
       "      <td>35</td>\n",
       "      <td>168</td>\n",
       "      <td>43.1</td>\n",
       "      <td>2.288</td>\n",
       "      <td>33</td>\n",
       "      <td>1</td>\n",
       "    </tr>\n",
       "    <tr>\n",
       "      <th>...</th>\n",
       "      <td>...</td>\n",
       "      <td>...</td>\n",
       "      <td>...</td>\n",
       "      <td>...</td>\n",
       "      <td>...</td>\n",
       "      <td>...</td>\n",
       "      <td>...</td>\n",
       "      <td>...</td>\n",
       "      <td>...</td>\n",
       "    </tr>\n",
       "    <tr>\n",
       "      <th>763</th>\n",
       "      <td>10</td>\n",
       "      <td>101</td>\n",
       "      <td>76</td>\n",
       "      <td>48</td>\n",
       "      <td>180</td>\n",
       "      <td>32.9</td>\n",
       "      <td>0.171</td>\n",
       "      <td>63</td>\n",
       "      <td>0</td>\n",
       "    </tr>\n",
       "    <tr>\n",
       "      <th>764</th>\n",
       "      <td>2</td>\n",
       "      <td>122</td>\n",
       "      <td>70</td>\n",
       "      <td>27</td>\n",
       "      <td>0</td>\n",
       "      <td>36.8</td>\n",
       "      <td>0.340</td>\n",
       "      <td>27</td>\n",
       "      <td>0</td>\n",
       "    </tr>\n",
       "    <tr>\n",
       "      <th>765</th>\n",
       "      <td>5</td>\n",
       "      <td>121</td>\n",
       "      <td>72</td>\n",
       "      <td>23</td>\n",
       "      <td>112</td>\n",
       "      <td>26.2</td>\n",
       "      <td>0.245</td>\n",
       "      <td>30</td>\n",
       "      <td>0</td>\n",
       "    </tr>\n",
       "    <tr>\n",
       "      <th>766</th>\n",
       "      <td>1</td>\n",
       "      <td>126</td>\n",
       "      <td>60</td>\n",
       "      <td>0</td>\n",
       "      <td>0</td>\n",
       "      <td>30.1</td>\n",
       "      <td>0.349</td>\n",
       "      <td>47</td>\n",
       "      <td>1</td>\n",
       "    </tr>\n",
       "    <tr>\n",
       "      <th>767</th>\n",
       "      <td>1</td>\n",
       "      <td>93</td>\n",
       "      <td>70</td>\n",
       "      <td>31</td>\n",
       "      <td>0</td>\n",
       "      <td>30.4</td>\n",
       "      <td>0.315</td>\n",
       "      <td>23</td>\n",
       "      <td>0</td>\n",
       "    </tr>\n",
       "  </tbody>\n",
       "</table>\n",
       "<p>768 rows × 9 columns</p>\n",
       "</div>"
      ],
      "text/plain": [
       "     Pregnancies  Glucose  BloodPressure  SkinThickness  Insulin   BMI  \\\n",
       "0              6      148             72             35        0  33.6   \n",
       "1              1       85             66             29        0  26.6   \n",
       "2              8      183             64              0        0  23.3   \n",
       "3              1       89             66             23       94  28.1   \n",
       "4              0      137             40             35      168  43.1   \n",
       "..           ...      ...            ...            ...      ...   ...   \n",
       "763           10      101             76             48      180  32.9   \n",
       "764            2      122             70             27        0  36.8   \n",
       "765            5      121             72             23      112  26.2   \n",
       "766            1      126             60              0        0  30.1   \n",
       "767            1       93             70             31        0  30.4   \n",
       "\n",
       "     DiabetesPedigreeFunction  Age  Outcome  \n",
       "0                       0.627   50        1  \n",
       "1                       0.351   31        0  \n",
       "2                       0.672   32        1  \n",
       "3                       0.167   21        0  \n",
       "4                       2.288   33        1  \n",
       "..                        ...  ...      ...  \n",
       "763                     0.171   63        0  \n",
       "764                     0.340   27        0  \n",
       "765                     0.245   30        0  \n",
       "766                     0.349   47        1  \n",
       "767                     0.315   23        0  \n",
       "\n",
       "[768 rows x 9 columns]"
      ]
     },
     "execution_count": 425,
     "metadata": {},
     "output_type": "execute_result"
    }
   ],
   "source": [
    "df"
   ]
  },
  {
   "cell_type": "markdown",
   "id": "d39592e4",
   "metadata": {},
   "source": [
    "### Wine Data"
   ]
  },
  {
   "cell_type": "code",
   "execution_count": 9,
   "id": "6cc637d9",
   "metadata": {},
   "outputs": [],
   "source": [
    "wine = datasets.load_wine()\n",
    "\n",
    "X_train, X_test,  y_train, y_test = train_test_split(wine.data, wine.target, random_state = 13, train_size = 0.8)"
   ]
  },
  {
   "cell_type": "code",
   "execution_count": 10,
   "id": "be4799bb",
   "metadata": {},
   "outputs": [
    {
     "data": {
      "text/plain": [
       "97.22222222222221"
      ]
     },
     "execution_count": 10,
     "metadata": {},
     "output_type": "execute_result"
    }
   ],
   "source": [
    "# Logistic Regression Model\n",
    "\n",
    "lr_model = LogisticRegression(max_iter = 5000)\n",
    "\n",
    "lr_model.fit(X_train, y_train)\n",
    "\n",
    "lr_wine = accuracy_score(lr_model.predict(X_test), y_test) * 100\n",
    "\n",
    "lr_wine"
   ]
  },
  {
   "cell_type": "code",
   "execution_count": 11,
   "id": "cf133bd5",
   "metadata": {},
   "outputs": [
    {
     "data": {
      "text/plain": [
       "97.22222222222221"
      ]
     },
     "execution_count": 11,
     "metadata": {},
     "output_type": "execute_result"
    }
   ],
   "source": [
    "# PrincipalTransformationClassifier\n",
    "\n",
    "ptc_model = PTC()\n",
    "\n",
    "ptc_model.fit(X_train, y_train)\n",
    "\n",
    "ptc_wine = accuracy_score(ptc_model.predict(X_test), y_test) * 100\n",
    "\n",
    "ptc_wine"
   ]
  },
  {
   "cell_type": "code",
   "execution_count": 12,
   "id": "59e271f4",
   "metadata": {},
   "outputs": [
    {
     "data": {
      "text/plain": [
       "97.22222222222221"
      ]
     },
     "execution_count": 12,
     "metadata": {},
     "output_type": "execute_result"
    }
   ],
   "source": [
    "# DecisionTree Classifier\n",
    "\n",
    "dt_model = DecisionTreeClassifier()\n",
    "\n",
    "dt_model.fit(X_train, y_train)\n",
    "\n",
    "dt_wine = accuracy_score(ptc_model.predict(X_test), y_test) * 100\n",
    "\n",
    "dt_wine"
   ]
  },
  {
   "cell_type": "markdown",
   "id": "bbe0d3be",
   "metadata": {},
   "source": [
    "### Iris Data"
   ]
  },
  {
   "cell_type": "code",
   "execution_count": 13,
   "id": "5c5fad35",
   "metadata": {},
   "outputs": [],
   "source": [
    "iris = datasets.load_iris()\n",
    "\n",
    "X_train, X_test,  y_train, y_test = train_test_split(iris.data, iris.target, random_state = 20, train_size = 0.8)"
   ]
  },
  {
   "cell_type": "code",
   "execution_count": 14,
   "id": "5706e91b",
   "metadata": {},
   "outputs": [
    {
     "data": {
      "text/plain": [
       "93.33333333333333"
      ]
     },
     "execution_count": 14,
     "metadata": {},
     "output_type": "execute_result"
    }
   ],
   "source": [
    "# Logistic Regression Model\n",
    "\n",
    "lr_model = LogisticRegression(max_iter = 5000)\n",
    "\n",
    "lr_model.fit(X_train, y_train)\n",
    "\n",
    "lr_iris = accuracy_score(lr_model.predict(X_test), y_test) * 100\n",
    "\n",
    "lr_iris"
   ]
  },
  {
   "cell_type": "code",
   "execution_count": 15,
   "id": "e4770fc6",
   "metadata": {},
   "outputs": [
    {
     "data": {
      "text/plain": [
       "100.0"
      ]
     },
     "execution_count": 15,
     "metadata": {},
     "output_type": "execute_result"
    }
   ],
   "source": [
    "# PrincipalTransformationClassifier\n",
    "\n",
    "ptc_model = PTC()\n",
    "\n",
    "ptc_model.fit(X_train, y_train)\n",
    "\n",
    "ptc_iris = accuracy_score(ptc_model.predict(X_test), y_test) * 100\n",
    "\n",
    "ptc_iris"
   ]
  },
  {
   "cell_type": "code",
   "execution_count": 16,
   "id": "1b26d63b",
   "metadata": {},
   "outputs": [
    {
     "data": {
      "text/plain": [
       "93.33333333333333"
      ]
     },
     "execution_count": 16,
     "metadata": {},
     "output_type": "execute_result"
    }
   ],
   "source": [
    "# DecisionTree Classifier\n",
    "\n",
    "dt_model = DecisionTreeClassifier()\n",
    "\n",
    "dt_model.fit(X_train, y_train)\n",
    "\n",
    "dt_iris = accuracy_score(dt_model.predict(X_test), y_test) * 100\n",
    "\n",
    "dt_iris"
   ]
  },
  {
   "cell_type": "markdown",
   "id": "87e2e93e",
   "metadata": {},
   "source": [
    "### MNIST Data"
   ]
  },
  {
   "cell_type": "code",
   "execution_count": 17,
   "id": "c96e6859",
   "metadata": {},
   "outputs": [],
   "source": [
    "import tensorflow as tf\n",
    "import keras\n",
    "from keras.datasets import mnist\n",
    "\n",
    "(train_X, train_y), (test_X, test_y) = mnist.load_data()\n",
    "train_X = train_X.reshape(60000, -1)\n",
    "test_X = test_X.reshape(10000, -1)\n",
    "\n",
    "columns = ((train_X == 0).sum(axis = 0)/60000 < 0.95)\n",
    "\n",
    "train_X = train_X[:, columns]\n",
    "test_X = test_X[:, columns]"
   ]
  },
  {
   "cell_type": "markdown",
   "id": "2c7ecb0b",
   "metadata": {},
   "source": [
    "# Logistic Regression Model\n",
    "\n",
    "lr_model = LogisticRegression(max_iter = 5000)\n",
    "\n",
    "lr_model.fit(train_X, train_y)\n",
    "\n",
    "accuracy_score(lr_model.predict(test_X), test_y)"
   ]
  },
  {
   "cell_type": "code",
   "execution_count": 18,
   "id": "f7de2830",
   "metadata": {},
   "outputs": [
    {
     "data": {
      "text/plain": [
       "(784,)"
      ]
     },
     "execution_count": 18,
     "metadata": {},
     "output_type": "execute_result"
    }
   ],
   "source": [
    "columns.shape"
   ]
  },
  {
   "cell_type": "code",
   "execution_count": 19,
   "id": "486e6ca5",
   "metadata": {
    "scrolled": true
   },
   "outputs": [
    {
     "data": {
      "text/plain": [
       "398"
      ]
     },
     "execution_count": 19,
     "metadata": {},
     "output_type": "execute_result"
    }
   ],
   "source": [
    "columns.sum()"
   ]
  },
  {
   "cell_type": "code",
   "execution_count": 20,
   "id": "cbadcf22",
   "metadata": {},
   "outputs": [],
   "source": [
    "import time"
   ]
  },
  {
   "cell_type": "code",
   "execution_count": 134,
   "id": "4d040e31",
   "metadata": {},
   "outputs": [
    {
     "data": {
      "text/plain": [
       "2.767671823501587"
      ]
     },
     "execution_count": 134,
     "metadata": {},
     "output_type": "execute_result"
    }
   ],
   "source": [
    "# PrincipalTransformationClassifier\n",
    "\n",
    "t1 = time.time()\n",
    "ptc_model = PTC()\n",
    "\n",
    "ptc_model.fit(train_X, train_y)\n",
    "\n",
    "t2 = time.time()\n",
    "\n",
    "t2 - t1\n",
    "\n",
    "ptc_mnist = accuracy_score(ptc_model.predict(test_X), test_y) * 100\n",
    "t2 = time.time()\n",
    "\n",
    "t2 - t1\n",
    "#ptc_mnist"
   ]
  },
  {
   "cell_type": "code",
   "execution_count": 135,
   "id": "a5f8cc3f",
   "metadata": {
    "scrolled": true
   },
   "outputs": [
    {
     "data": {
      "text/plain": [
       "86.8"
      ]
     },
     "execution_count": 135,
     "metadata": {},
     "output_type": "execute_result"
    }
   ],
   "source": [
    "ptc_mnist"
   ]
  },
  {
   "cell_type": "markdown",
   "id": "c0d3ea73",
   "metadata": {},
   "source": [
    "Decision Tree Model\n",
    "\n",
    "Reference: https://www.researchgate.net/figure/Recognition-accuracy-of-machine-learning-methods-on-MNIST-dataset_tbl1_331864538"
   ]
  },
  {
   "cell_type": "markdown",
   "id": "98b7b261",
   "metadata": {},
   "source": [
    "## Accuracy Comparision Table"
   ]
  },
  {
   "cell_type": "code",
   "execution_count": 50,
   "id": "dd755139",
   "metadata": {
    "scrolled": true
   },
   "outputs": [
    {
     "data": {
      "text/html": [
       "<div>\n",
       "<style scoped>\n",
       "    .dataframe tbody tr th:only-of-type {\n",
       "        vertical-align: middle;\n",
       "    }\n",
       "\n",
       "    .dataframe tbody tr th {\n",
       "        vertical-align: top;\n",
       "    }\n",
       "\n",
       "    .dataframe thead th {\n",
       "        text-align: right;\n",
       "    }\n",
       "</style>\n",
       "<table border=\"1\" class=\"dataframe\">\n",
       "  <thead>\n",
       "    <tr style=\"text-align: right;\">\n",
       "      <th></th>\n",
       "      <th>Logistic Regression</th>\n",
       "      <th>PrincipalTransformationClassifier</th>\n",
       "      <th>DecisionTreeClassifier</th>\n",
       "    </tr>\n",
       "  </thead>\n",
       "  <tbody>\n",
       "    <tr>\n",
       "      <th>IRIS</th>\n",
       "      <td>93.333333</td>\n",
       "      <td>100.000000</td>\n",
       "      <td>100.000000</td>\n",
       "    </tr>\n",
       "    <tr>\n",
       "      <th>WINE</th>\n",
       "      <td>97.222222</td>\n",
       "      <td>97.222222</td>\n",
       "      <td>97.222222</td>\n",
       "    </tr>\n",
       "    <tr>\n",
       "      <th>MNIST</th>\n",
       "      <td>91.000000</td>\n",
       "      <td>85.900000</td>\n",
       "      <td>93.000000</td>\n",
       "    </tr>\n",
       "  </tbody>\n",
       "</table>\n",
       "</div>"
      ],
      "text/plain": [
       "       Logistic Regression  PrincipalTransformationClassifier  \\\n",
       "IRIS             93.333333                         100.000000   \n",
       "WINE             97.222222                          97.222222   \n",
       "MNIST            91.000000                          85.900000   \n",
       "\n",
       "       DecisionTreeClassifier  \n",
       "IRIS               100.000000  \n",
       "WINE                97.222222  \n",
       "MNIST               93.000000  "
      ]
     },
     "execution_count": 50,
     "metadata": {},
     "output_type": "execute_result"
    }
   ],
   "source": [
    "pd.DataFrame([[lr_iris, ptc_iris, dt_iris], [lr_wine, ptc_wine, dt_wine], [91.00, ptc_mnist, 93.00]],\n",
    "             columns = ['Logistic Regression', 'PrincipalTransformationClassifier', 'DecisionTreeClassifier'],\n",
    "            index = ['IRIS', 'WINE', 'MNIST'])"
   ]
  },
  {
   "cell_type": "code",
   "execution_count": null,
   "id": "28cf6846",
   "metadata": {},
   "outputs": [],
   "source": []
  },
  {
   "cell_type": "code",
   "execution_count": null,
   "id": "33f4f79b",
   "metadata": {},
   "outputs": [],
   "source": []
  },
  {
   "cell_type": "code",
   "execution_count": 104,
   "id": "09400bc5",
   "metadata": {},
   "outputs": [],
   "source": [
    "credit = pd.read_csv('creditcard.csv')"
   ]
  },
  {
   "cell_type": "code",
   "execution_count": 105,
   "id": "da0dc687",
   "metadata": {},
   "outputs": [
    {
     "data": {
      "text/html": [
       "<div>\n",
       "<style scoped>\n",
       "    .dataframe tbody tr th:only-of-type {\n",
       "        vertical-align: middle;\n",
       "    }\n",
       "\n",
       "    .dataframe tbody tr th {\n",
       "        vertical-align: top;\n",
       "    }\n",
       "\n",
       "    .dataframe thead th {\n",
       "        text-align: right;\n",
       "    }\n",
       "</style>\n",
       "<table border=\"1\" class=\"dataframe\">\n",
       "  <thead>\n",
       "    <tr style=\"text-align: right;\">\n",
       "      <th></th>\n",
       "      <th>Time</th>\n",
       "      <th>V1</th>\n",
       "      <th>V2</th>\n",
       "      <th>V3</th>\n",
       "      <th>V4</th>\n",
       "      <th>V5</th>\n",
       "      <th>V6</th>\n",
       "      <th>V7</th>\n",
       "      <th>V8</th>\n",
       "      <th>V9</th>\n",
       "      <th>...</th>\n",
       "      <th>V21</th>\n",
       "      <th>V22</th>\n",
       "      <th>V23</th>\n",
       "      <th>V24</th>\n",
       "      <th>V25</th>\n",
       "      <th>V26</th>\n",
       "      <th>V27</th>\n",
       "      <th>V28</th>\n",
       "      <th>Amount</th>\n",
       "      <th>Class</th>\n",
       "    </tr>\n",
       "  </thead>\n",
       "  <tbody>\n",
       "    <tr>\n",
       "      <th>0</th>\n",
       "      <td>0.0</td>\n",
       "      <td>-1.359807</td>\n",
       "      <td>-0.072781</td>\n",
       "      <td>2.536347</td>\n",
       "      <td>1.378155</td>\n",
       "      <td>-0.338321</td>\n",
       "      <td>0.462388</td>\n",
       "      <td>0.239599</td>\n",
       "      <td>0.098698</td>\n",
       "      <td>0.363787</td>\n",
       "      <td>...</td>\n",
       "      <td>-0.018307</td>\n",
       "      <td>0.277838</td>\n",
       "      <td>-0.110474</td>\n",
       "      <td>0.066928</td>\n",
       "      <td>0.128539</td>\n",
       "      <td>-0.189115</td>\n",
       "      <td>0.133558</td>\n",
       "      <td>-0.021053</td>\n",
       "      <td>149.62</td>\n",
       "      <td>0</td>\n",
       "    </tr>\n",
       "    <tr>\n",
       "      <th>1</th>\n",
       "      <td>0.0</td>\n",
       "      <td>1.191857</td>\n",
       "      <td>0.266151</td>\n",
       "      <td>0.166480</td>\n",
       "      <td>0.448154</td>\n",
       "      <td>0.060018</td>\n",
       "      <td>-0.082361</td>\n",
       "      <td>-0.078803</td>\n",
       "      <td>0.085102</td>\n",
       "      <td>-0.255425</td>\n",
       "      <td>...</td>\n",
       "      <td>-0.225775</td>\n",
       "      <td>-0.638672</td>\n",
       "      <td>0.101288</td>\n",
       "      <td>-0.339846</td>\n",
       "      <td>0.167170</td>\n",
       "      <td>0.125895</td>\n",
       "      <td>-0.008983</td>\n",
       "      <td>0.014724</td>\n",
       "      <td>2.69</td>\n",
       "      <td>0</td>\n",
       "    </tr>\n",
       "    <tr>\n",
       "      <th>2</th>\n",
       "      <td>1.0</td>\n",
       "      <td>-1.358354</td>\n",
       "      <td>-1.340163</td>\n",
       "      <td>1.773209</td>\n",
       "      <td>0.379780</td>\n",
       "      <td>-0.503198</td>\n",
       "      <td>1.800499</td>\n",
       "      <td>0.791461</td>\n",
       "      <td>0.247676</td>\n",
       "      <td>-1.514654</td>\n",
       "      <td>...</td>\n",
       "      <td>0.247998</td>\n",
       "      <td>0.771679</td>\n",
       "      <td>0.909412</td>\n",
       "      <td>-0.689281</td>\n",
       "      <td>-0.327642</td>\n",
       "      <td>-0.139097</td>\n",
       "      <td>-0.055353</td>\n",
       "      <td>-0.059752</td>\n",
       "      <td>378.66</td>\n",
       "      <td>0</td>\n",
       "    </tr>\n",
       "    <tr>\n",
       "      <th>3</th>\n",
       "      <td>1.0</td>\n",
       "      <td>-0.966272</td>\n",
       "      <td>-0.185226</td>\n",
       "      <td>1.792993</td>\n",
       "      <td>-0.863291</td>\n",
       "      <td>-0.010309</td>\n",
       "      <td>1.247203</td>\n",
       "      <td>0.237609</td>\n",
       "      <td>0.377436</td>\n",
       "      <td>-1.387024</td>\n",
       "      <td>...</td>\n",
       "      <td>-0.108300</td>\n",
       "      <td>0.005274</td>\n",
       "      <td>-0.190321</td>\n",
       "      <td>-1.175575</td>\n",
       "      <td>0.647376</td>\n",
       "      <td>-0.221929</td>\n",
       "      <td>0.062723</td>\n",
       "      <td>0.061458</td>\n",
       "      <td>123.50</td>\n",
       "      <td>0</td>\n",
       "    </tr>\n",
       "    <tr>\n",
       "      <th>4</th>\n",
       "      <td>2.0</td>\n",
       "      <td>-1.158233</td>\n",
       "      <td>0.877737</td>\n",
       "      <td>1.548718</td>\n",
       "      <td>0.403034</td>\n",
       "      <td>-0.407193</td>\n",
       "      <td>0.095921</td>\n",
       "      <td>0.592941</td>\n",
       "      <td>-0.270533</td>\n",
       "      <td>0.817739</td>\n",
       "      <td>...</td>\n",
       "      <td>-0.009431</td>\n",
       "      <td>0.798278</td>\n",
       "      <td>-0.137458</td>\n",
       "      <td>0.141267</td>\n",
       "      <td>-0.206010</td>\n",
       "      <td>0.502292</td>\n",
       "      <td>0.219422</td>\n",
       "      <td>0.215153</td>\n",
       "      <td>69.99</td>\n",
       "      <td>0</td>\n",
       "    </tr>\n",
       "  </tbody>\n",
       "</table>\n",
       "<p>5 rows × 31 columns</p>\n",
       "</div>"
      ],
      "text/plain": [
       "   Time        V1        V2        V3        V4        V5        V6        V7  \\\n",
       "0   0.0 -1.359807 -0.072781  2.536347  1.378155 -0.338321  0.462388  0.239599   \n",
       "1   0.0  1.191857  0.266151  0.166480  0.448154  0.060018 -0.082361 -0.078803   \n",
       "2   1.0 -1.358354 -1.340163  1.773209  0.379780 -0.503198  1.800499  0.791461   \n",
       "3   1.0 -0.966272 -0.185226  1.792993 -0.863291 -0.010309  1.247203  0.237609   \n",
       "4   2.0 -1.158233  0.877737  1.548718  0.403034 -0.407193  0.095921  0.592941   \n",
       "\n",
       "         V8        V9  ...       V21       V22       V23       V24       V25  \\\n",
       "0  0.098698  0.363787  ... -0.018307  0.277838 -0.110474  0.066928  0.128539   \n",
       "1  0.085102 -0.255425  ... -0.225775 -0.638672  0.101288 -0.339846  0.167170   \n",
       "2  0.247676 -1.514654  ...  0.247998  0.771679  0.909412 -0.689281 -0.327642   \n",
       "3  0.377436 -1.387024  ... -0.108300  0.005274 -0.190321 -1.175575  0.647376   \n",
       "4 -0.270533  0.817739  ... -0.009431  0.798278 -0.137458  0.141267 -0.206010   \n",
       "\n",
       "        V26       V27       V28  Amount  Class  \n",
       "0 -0.189115  0.133558 -0.021053  149.62      0  \n",
       "1  0.125895 -0.008983  0.014724    2.69      0  \n",
       "2 -0.139097 -0.055353 -0.059752  378.66      0  \n",
       "3 -0.221929  0.062723  0.061458  123.50      0  \n",
       "4  0.502292  0.219422  0.215153   69.99      0  \n",
       "\n",
       "[5 rows x 31 columns]"
      ]
     },
     "execution_count": 105,
     "metadata": {},
     "output_type": "execute_result"
    }
   ],
   "source": [
    "credit.head()"
   ]
  },
  {
   "cell_type": "code",
   "execution_count": 136,
   "id": "c96e2ebf",
   "metadata": {},
   "outputs": [],
   "source": [
    "from sklearn import datasets\n",
    "\n",
    "\n",
    "\n",
    "X = credit.drop('Class', axis = 1)\n",
    "y = credit['Class']\n",
    "\n",
    "from sklearn.model_selection import train_test_split\n",
    "\n",
    "X_train, X_test,  y_train, y_test = train_test_split(X, y, random_state = 40, train_size = 0.9)"
   ]
  },
  {
   "cell_type": "code",
   "execution_count": 142,
   "id": "9e320ebf",
   "metadata": {},
   "outputs": [
    {
     "data": {
      "text/html": [
       "<div>\n",
       "<style scoped>\n",
       "    .dataframe tbody tr th:only-of-type {\n",
       "        vertical-align: middle;\n",
       "    }\n",
       "\n",
       "    .dataframe tbody tr th {\n",
       "        vertical-align: top;\n",
       "    }\n",
       "\n",
       "    .dataframe thead th {\n",
       "        text-align: right;\n",
       "    }\n",
       "</style>\n",
       "<table border=\"1\" class=\"dataframe\">\n",
       "  <thead>\n",
       "    <tr style=\"text-align: right;\">\n",
       "      <th></th>\n",
       "      <th>Time</th>\n",
       "      <th>V1</th>\n",
       "      <th>V2</th>\n",
       "      <th>V3</th>\n",
       "      <th>V4</th>\n",
       "      <th>V5</th>\n",
       "      <th>V6</th>\n",
       "      <th>V7</th>\n",
       "      <th>V8</th>\n",
       "      <th>V9</th>\n",
       "      <th>...</th>\n",
       "      <th>V20</th>\n",
       "      <th>V21</th>\n",
       "      <th>V22</th>\n",
       "      <th>V23</th>\n",
       "      <th>V24</th>\n",
       "      <th>V25</th>\n",
       "      <th>V26</th>\n",
       "      <th>V27</th>\n",
       "      <th>V28</th>\n",
       "      <th>Amount</th>\n",
       "    </tr>\n",
       "  </thead>\n",
       "  <tbody>\n",
       "    <tr>\n",
       "      <th>173480</th>\n",
       "      <td>121503.0</td>\n",
       "      <td>-0.241119</td>\n",
       "      <td>0.869441</td>\n",
       "      <td>-0.536996</td>\n",
       "      <td>0.344367</td>\n",
       "      <td>0.874641</td>\n",
       "      <td>-0.444209</td>\n",
       "      <td>1.194435</td>\n",
       "      <td>-0.059945</td>\n",
       "      <td>-0.320136</td>\n",
       "      <td>...</td>\n",
       "      <td>0.207809</td>\n",
       "      <td>0.029139</td>\n",
       "      <td>0.154639</td>\n",
       "      <td>-0.061533</td>\n",
       "      <td>-0.569647</td>\n",
       "      <td>-0.292792</td>\n",
       "      <td>-0.192600</td>\n",
       "      <td>0.192129</td>\n",
       "      <td>0.227225</td>\n",
       "      <td>91.72</td>\n",
       "    </tr>\n",
       "    <tr>\n",
       "      <th>123019</th>\n",
       "      <td>76778.0</td>\n",
       "      <td>0.916830</td>\n",
       "      <td>-2.179105</td>\n",
       "      <td>0.137857</td>\n",
       "      <td>-1.366741</td>\n",
       "      <td>-1.747414</td>\n",
       "      <td>0.081752</td>\n",
       "      <td>-1.006577</td>\n",
       "      <td>0.013892</td>\n",
       "      <td>-1.738117</td>\n",
       "      <td>...</td>\n",
       "      <td>0.305784</td>\n",
       "      <td>0.116598</td>\n",
       "      <td>-0.013433</td>\n",
       "      <td>-0.379842</td>\n",
       "      <td>-0.506690</td>\n",
       "      <td>0.285464</td>\n",
       "      <td>-0.100086</td>\n",
       "      <td>-0.015457</td>\n",
       "      <td>0.061062</td>\n",
       "      <td>321.00</td>\n",
       "    </tr>\n",
       "    <tr>\n",
       "      <th>9033</th>\n",
       "      <td>12593.0</td>\n",
       "      <td>-4.546398</td>\n",
       "      <td>3.383750</td>\n",
       "      <td>0.105758</td>\n",
       "      <td>1.272360</td>\n",
       "      <td>-1.764250</td>\n",
       "      <td>1.214736</td>\n",
       "      <td>-2.446834</td>\n",
       "      <td>-1.478312</td>\n",
       "      <td>2.642053</td>\n",
       "      <td>...</td>\n",
       "      <td>-1.236420</td>\n",
       "      <td>2.739679</td>\n",
       "      <td>-0.568310</td>\n",
       "      <td>0.604754</td>\n",
       "      <td>0.106617</td>\n",
       "      <td>-1.227549</td>\n",
       "      <td>-0.762332</td>\n",
       "      <td>-3.008276</td>\n",
       "      <td>-0.026602</td>\n",
       "      <td>1.00</td>\n",
       "    </tr>\n",
       "    <tr>\n",
       "      <th>103602</th>\n",
       "      <td>68728.0</td>\n",
       "      <td>1.263949</td>\n",
       "      <td>0.056760</td>\n",
       "      <td>0.889650</td>\n",
       "      <td>0.933047</td>\n",
       "      <td>-0.329020</td>\n",
       "      <td>0.541665</td>\n",
       "      <td>-0.701209</td>\n",
       "      <td>0.134106</td>\n",
       "      <td>0.591973</td>\n",
       "      <td>...</td>\n",
       "      <td>-0.003067</td>\n",
       "      <td>0.168675</td>\n",
       "      <td>0.613321</td>\n",
       "      <td>-0.249988</td>\n",
       "      <td>-0.969263</td>\n",
       "      <td>0.586168</td>\n",
       "      <td>-0.154478</td>\n",
       "      <td>0.080976</td>\n",
       "      <td>0.031210</td>\n",
       "      <td>5.00</td>\n",
       "    </tr>\n",
       "    <tr>\n",
       "      <th>60518</th>\n",
       "      <td>49360.0</td>\n",
       "      <td>-0.774316</td>\n",
       "      <td>1.381433</td>\n",
       "      <td>1.629710</td>\n",
       "      <td>0.424012</td>\n",
       "      <td>0.854930</td>\n",
       "      <td>-0.221258</td>\n",
       "      <td>1.654067</td>\n",
       "      <td>-1.109168</td>\n",
       "      <td>0.923407</td>\n",
       "      <td>...</td>\n",
       "      <td>0.799728</td>\n",
       "      <td>-0.177734</td>\n",
       "      <td>0.654285</td>\n",
       "      <td>-0.297991</td>\n",
       "      <td>0.072145</td>\n",
       "      <td>-0.278160</td>\n",
       "      <td>-0.442110</td>\n",
       "      <td>-0.346253</td>\n",
       "      <td>-0.705660</td>\n",
       "      <td>2.63</td>\n",
       "    </tr>\n",
       "    <tr>\n",
       "      <th>...</th>\n",
       "      <td>...</td>\n",
       "      <td>...</td>\n",
       "      <td>...</td>\n",
       "      <td>...</td>\n",
       "      <td>...</td>\n",
       "      <td>...</td>\n",
       "      <td>...</td>\n",
       "      <td>...</td>\n",
       "      <td>...</td>\n",
       "      <td>...</td>\n",
       "      <td>...</td>\n",
       "      <td>...</td>\n",
       "      <td>...</td>\n",
       "      <td>...</td>\n",
       "      <td>...</td>\n",
       "      <td>...</td>\n",
       "      <td>...</td>\n",
       "      <td>...</td>\n",
       "      <td>...</td>\n",
       "      <td>...</td>\n",
       "      <td>...</td>\n",
       "    </tr>\n",
       "    <tr>\n",
       "      <th>138911</th>\n",
       "      <td>82912.0</td>\n",
       "      <td>-0.746363</td>\n",
       "      <td>1.427544</td>\n",
       "      <td>1.196475</td>\n",
       "      <td>1.213289</td>\n",
       "      <td>-0.187187</td>\n",
       "      <td>-0.431339</td>\n",
       "      <td>0.254315</td>\n",
       "      <td>0.428527</td>\n",
       "      <td>-0.883664</td>\n",
       "      <td>...</td>\n",
       "      <td>0.072226</td>\n",
       "      <td>0.241926</td>\n",
       "      <td>0.811914</td>\n",
       "      <td>-0.096571</td>\n",
       "      <td>0.427751</td>\n",
       "      <td>-0.203469</td>\n",
       "      <td>-0.191222</td>\n",
       "      <td>0.314414</td>\n",
       "      <td>0.146678</td>\n",
       "      <td>1.00</td>\n",
       "    </tr>\n",
       "    <tr>\n",
       "      <th>200211</th>\n",
       "      <td>133338.0</td>\n",
       "      <td>-0.836827</td>\n",
       "      <td>0.197551</td>\n",
       "      <td>1.425084</td>\n",
       "      <td>-0.814607</td>\n",
       "      <td>0.781293</td>\n",
       "      <td>1.564700</td>\n",
       "      <td>-0.067812</td>\n",
       "      <td>0.709666</td>\n",
       "      <td>0.456200</td>\n",
       "      <td>...</td>\n",
       "      <td>-0.035740</td>\n",
       "      <td>0.340147</td>\n",
       "      <td>1.293175</td>\n",
       "      <td>-0.119527</td>\n",
       "      <td>-1.408162</td>\n",
       "      <td>-0.373323</td>\n",
       "      <td>0.768922</td>\n",
       "      <td>0.398510</td>\n",
       "      <td>0.183082</td>\n",
       "      <td>22.29</td>\n",
       "    </tr>\n",
       "    <tr>\n",
       "      <th>137031</th>\n",
       "      <td>81988.0</td>\n",
       "      <td>0.942883</td>\n",
       "      <td>0.353067</td>\n",
       "      <td>0.671608</td>\n",
       "      <td>2.147001</td>\n",
       "      <td>0.668415</td>\n",
       "      <td>1.837514</td>\n",
       "      <td>-0.290516</td>\n",
       "      <td>0.632040</td>\n",
       "      <td>-1.050095</td>\n",
       "      <td>...</td>\n",
       "      <td>-0.248841</td>\n",
       "      <td>-0.071237</td>\n",
       "      <td>-0.173220</td>\n",
       "      <td>0.251591</td>\n",
       "      <td>-1.058023</td>\n",
       "      <td>-0.090554</td>\n",
       "      <td>-0.156453</td>\n",
       "      <td>0.061092</td>\n",
       "      <td>0.005493</td>\n",
       "      <td>9.91</td>\n",
       "    </tr>\n",
       "    <tr>\n",
       "      <th>142604</th>\n",
       "      <td>84819.0</td>\n",
       "      <td>-0.531536</td>\n",
       "      <td>0.854556</td>\n",
       "      <td>1.595593</td>\n",
       "      <td>0.477754</td>\n",
       "      <td>0.114464</td>\n",
       "      <td>-0.287914</td>\n",
       "      <td>1.748649</td>\n",
       "      <td>-0.644067</td>\n",
       "      <td>-0.317733</td>\n",
       "      <td>...</td>\n",
       "      <td>-0.111065</td>\n",
       "      <td>-0.467143</td>\n",
       "      <td>-0.978935</td>\n",
       "      <td>0.203441</td>\n",
       "      <td>0.333213</td>\n",
       "      <td>-0.328248</td>\n",
       "      <td>-0.956925</td>\n",
       "      <td>-0.443684</td>\n",
       "      <td>-0.466231</td>\n",
       "      <td>114.00</td>\n",
       "    </tr>\n",
       "    <tr>\n",
       "      <th>114369</th>\n",
       "      <td>73453.0</td>\n",
       "      <td>-0.604094</td>\n",
       "      <td>1.256435</td>\n",
       "      <td>1.073828</td>\n",
       "      <td>-0.157100</td>\n",
       "      <td>0.160641</td>\n",
       "      <td>-0.310622</td>\n",
       "      <td>0.310672</td>\n",
       "      <td>-0.670600</td>\n",
       "      <td>-0.519614</td>\n",
       "      <td>...</td>\n",
       "      <td>-0.052005</td>\n",
       "      <td>0.524618</td>\n",
       "      <td>-0.922808</td>\n",
       "      <td>0.044982</td>\n",
       "      <td>-0.075891</td>\n",
       "      <td>-0.137742</td>\n",
       "      <td>0.082470</td>\n",
       "      <td>0.276006</td>\n",
       "      <td>0.091194</td>\n",
       "      <td>3.27</td>\n",
       "    </tr>\n",
       "  </tbody>\n",
       "</table>\n",
       "<p>256326 rows × 30 columns</p>\n",
       "</div>"
      ],
      "text/plain": [
       "            Time        V1        V2        V3        V4        V5        V6  \\\n",
       "173480  121503.0 -0.241119  0.869441 -0.536996  0.344367  0.874641 -0.444209   \n",
       "123019   76778.0  0.916830 -2.179105  0.137857 -1.366741 -1.747414  0.081752   \n",
       "9033     12593.0 -4.546398  3.383750  0.105758  1.272360 -1.764250  1.214736   \n",
       "103602   68728.0  1.263949  0.056760  0.889650  0.933047 -0.329020  0.541665   \n",
       "60518    49360.0 -0.774316  1.381433  1.629710  0.424012  0.854930 -0.221258   \n",
       "...          ...       ...       ...       ...       ...       ...       ...   \n",
       "138911   82912.0 -0.746363  1.427544  1.196475  1.213289 -0.187187 -0.431339   \n",
       "200211  133338.0 -0.836827  0.197551  1.425084 -0.814607  0.781293  1.564700   \n",
       "137031   81988.0  0.942883  0.353067  0.671608  2.147001  0.668415  1.837514   \n",
       "142604   84819.0 -0.531536  0.854556  1.595593  0.477754  0.114464 -0.287914   \n",
       "114369   73453.0 -0.604094  1.256435  1.073828 -0.157100  0.160641 -0.310622   \n",
       "\n",
       "              V7        V8        V9  ...       V20       V21       V22  \\\n",
       "173480  1.194435 -0.059945 -0.320136  ...  0.207809  0.029139  0.154639   \n",
       "123019 -1.006577  0.013892 -1.738117  ...  0.305784  0.116598 -0.013433   \n",
       "9033   -2.446834 -1.478312  2.642053  ... -1.236420  2.739679 -0.568310   \n",
       "103602 -0.701209  0.134106  0.591973  ... -0.003067  0.168675  0.613321   \n",
       "60518   1.654067 -1.109168  0.923407  ...  0.799728 -0.177734  0.654285   \n",
       "...          ...       ...       ...  ...       ...       ...       ...   \n",
       "138911  0.254315  0.428527 -0.883664  ...  0.072226  0.241926  0.811914   \n",
       "200211 -0.067812  0.709666  0.456200  ... -0.035740  0.340147  1.293175   \n",
       "137031 -0.290516  0.632040 -1.050095  ... -0.248841 -0.071237 -0.173220   \n",
       "142604  1.748649 -0.644067 -0.317733  ... -0.111065 -0.467143 -0.978935   \n",
       "114369  0.310672 -0.670600 -0.519614  ... -0.052005  0.524618 -0.922808   \n",
       "\n",
       "             V23       V24       V25       V26       V27       V28  Amount  \n",
       "173480 -0.061533 -0.569647 -0.292792 -0.192600  0.192129  0.227225   91.72  \n",
       "123019 -0.379842 -0.506690  0.285464 -0.100086 -0.015457  0.061062  321.00  \n",
       "9033    0.604754  0.106617 -1.227549 -0.762332 -3.008276 -0.026602    1.00  \n",
       "103602 -0.249988 -0.969263  0.586168 -0.154478  0.080976  0.031210    5.00  \n",
       "60518  -0.297991  0.072145 -0.278160 -0.442110 -0.346253 -0.705660    2.63  \n",
       "...          ...       ...       ...       ...       ...       ...     ...  \n",
       "138911 -0.096571  0.427751 -0.203469 -0.191222  0.314414  0.146678    1.00  \n",
       "200211 -0.119527 -1.408162 -0.373323  0.768922  0.398510  0.183082   22.29  \n",
       "137031  0.251591 -1.058023 -0.090554 -0.156453  0.061092  0.005493    9.91  \n",
       "142604  0.203441  0.333213 -0.328248 -0.956925 -0.443684 -0.466231  114.00  \n",
       "114369  0.044982 -0.075891 -0.137742  0.082470  0.276006  0.091194    3.27  \n",
       "\n",
       "[256326 rows x 30 columns]"
      ]
     },
     "execution_count": 142,
     "metadata": {},
     "output_type": "execute_result"
    }
   ],
   "source": [
    "X_train"
   ]
  },
  {
   "cell_type": "code",
   "execution_count": 143,
   "id": "f56039a1",
   "metadata": {},
   "outputs": [],
   "source": [
    "ptc_model = PTC()\n",
    "\n",
    "ptc_model.fit(X_train, y_train)"
   ]
  },
  {
   "cell_type": "code",
   "execution_count": 144,
   "id": "82180b66",
   "metadata": {},
   "outputs": [],
   "source": [
    "t1 = time.time()\n",
    "y_pred = ptc_model.predict(X_test)\n",
    "t2 = time.time()"
   ]
  },
  {
   "cell_type": "code",
   "execution_count": 145,
   "id": "311480fc",
   "metadata": {},
   "outputs": [],
   "source": [
    "from sklearn.metrics import accuracy_score, precision_score, recall_score, f1_score"
   ]
  },
  {
   "cell_type": "code",
   "execution_count": 146,
   "id": "98d61e56",
   "metadata": {
    "scrolled": true
   },
   "outputs": [
    {
     "name": "stdout",
     "output_type": "stream",
     "text": [
      "The accuracy score is: 0.904\n",
      "The precision score is: 0.017\n",
      "The recall score is: 0.940\n",
      "The F1-score is 0.033\n"
     ]
    }
   ],
   "source": [
    "print('The accuracy score is: %.3f' % accuracy_score(y_test, y_pred))\n",
    "print('The precision score is: %.3f' % precision_score(y_test, y_pred))\n",
    "print('The recall score is: %.3f' % recall_score(y_test, y_pred))\n",
    "print('The F1-score is %.3f' % f1_score(y_test, y_pred))"
   ]
  },
  {
   "cell_type": "code",
   "execution_count": 112,
   "id": "c7766b4e",
   "metadata": {},
   "outputs": [
    {
     "data": {
      "text/plain": [
       "0    284315\n",
       "1       492\n",
       "Name: Class, dtype: int64"
      ]
     },
     "execution_count": 112,
     "metadata": {},
     "output_type": "execute_result"
    }
   ],
   "source": [
    "credit['Class'].value_counts()"
   ]
  },
  {
   "cell_type": "code",
   "execution_count": 113,
   "id": "76055d60",
   "metadata": {},
   "outputs": [
    {
     "data": {
      "text/plain": [
       "50"
      ]
     },
     "execution_count": 113,
     "metadata": {},
     "output_type": "execute_result"
    }
   ],
   "source": [
    "(y_test==1).sum()"
   ]
  },
  {
   "cell_type": "code",
   "execution_count": 114,
   "id": "cbe74111",
   "metadata": {},
   "outputs": [
    {
     "data": {
      "text/plain": [
       "(256326,)"
      ]
     },
     "execution_count": 114,
     "metadata": {},
     "output_type": "execute_result"
    }
   ],
   "source": [
    "y_train.shape"
   ]
  },
  {
   "cell_type": "code",
   "execution_count": 115,
   "id": "35533d4b",
   "metadata": {},
   "outputs": [
    {
     "data": {
      "text/plain": [
       "2779"
      ]
     },
     "execution_count": 115,
     "metadata": {},
     "output_type": "execute_result"
    }
   ],
   "source": [
    "(y_pred == 1).sum()"
   ]
  },
  {
   "cell_type": "code",
   "execution_count": 116,
   "id": "61649491",
   "metadata": {},
   "outputs": [
    {
     "data": {
      "text/plain": [
       "Time      2.255124e+09\n",
       "V1        3.836489e+00\n",
       "V2        2.726820e+00\n",
       "V3        2.299029e+00\n",
       "V4        2.004684e+00\n",
       "V5        1.905081e+00\n",
       "V6        1.774946e+00\n",
       "V7        1.530401e+00\n",
       "V8        1.426479e+00\n",
       "V9        1.206992e+00\n",
       "V10       1.185594e+00\n",
       "V11       1.041855e+00\n",
       "V12       9.984034e-01\n",
       "V13       9.905708e-01\n",
       "V14       9.189055e-01\n",
       "V15       8.378034e-01\n",
       "V16       7.678191e-01\n",
       "V17       7.213734e-01\n",
       "V18       7.025394e-01\n",
       "V19       6.626619e-01\n",
       "V20       5.943254e-01\n",
       "V21       5.395255e-01\n",
       "V22       5.266428e-01\n",
       "V23       3.899507e-01\n",
       "V24       3.668084e-01\n",
       "V25       2.717308e-01\n",
       "V26       2.325429e-01\n",
       "V27       1.629192e-01\n",
       "V28       1.089550e-01\n",
       "Amount    6.256007e+04\n",
       "Class     1.724507e-03\n",
       "dtype: float64"
      ]
     },
     "execution_count": 116,
     "metadata": {},
     "output_type": "execute_result"
    }
   ],
   "source": [
    "credit.var()"
   ]
  },
  {
   "cell_type": "code",
   "execution_count": null,
   "id": "259ffd0f",
   "metadata": {},
   "outputs": [],
   "source": []
  }
 ],
 "metadata": {
  "kernelspec": {
   "display_name": "Python 3 (ipykernel)",
   "language": "python",
   "name": "python3"
  },
  "language_info": {
   "codemirror_mode": {
    "name": "ipython",
    "version": 3
   },
   "file_extension": ".py",
   "mimetype": "text/x-python",
   "name": "python",
   "nbconvert_exporter": "python",
   "pygments_lexer": "ipython3",
   "version": "3.9.13"
  }
 },
 "nbformat": 4,
 "nbformat_minor": 5
}
